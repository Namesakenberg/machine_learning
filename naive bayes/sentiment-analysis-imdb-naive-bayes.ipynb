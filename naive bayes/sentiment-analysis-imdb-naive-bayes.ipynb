{
 "cells": [
  {
   "cell_type": "code",
   "execution_count": 1,
   "id": "2ea71766",
   "metadata": {
    "_cell_guid": "b1076dfc-b9ad-4769-8c92-a6c4dae69d19",
    "_uuid": "8f2839f25d086af736a60e9eeb907d3b93b6e0e5",
    "execution": {
     "iopub.execute_input": "2025-05-27T08:44:38.920716Z",
     "iopub.status.busy": "2025-05-27T08:44:38.920458Z",
     "iopub.status.idle": "2025-05-27T08:44:40.635753Z",
     "shell.execute_reply": "2025-05-27T08:44:40.634967Z"
    },
    "papermill": {
     "duration": 1.72411,
     "end_time": "2025-05-27T08:44:40.636906",
     "exception": false,
     "start_time": "2025-05-27T08:44:38.912796",
     "status": "completed"
    },
    "tags": []
   },
   "outputs": [
    {
     "name": "stdout",
     "output_type": "stream",
     "text": [
      "/kaggle/input/imdb-dataset-of-50k-movie-reviews/IMDB Dataset.csv\n"
     ]
    }
   ],
   "source": [
    "# This Python 3 environment comes with many helpful analytics libraries installed\n",
    "# It is defined by the kaggle/python Docker image: https://github.com/kaggle/docker-python\n",
    "# For example, here's several helpful packages to load\n",
    "\n",
    "import numpy as np # linear algebra\n",
    "import pandas as pd # data processing, CSV file I/O (e.g. pd.read_csv)\n",
    "\n",
    "# Input data files are available in the read-only \"../input/\" directory\n",
    "# For example, running this (by clicking run or pressing Shift+Enter) will list all files under the input directory\n",
    "\n",
    "import os\n",
    "for dirname, _, filenames in os.walk('/kaggle/input'):\n",
    "    for filename in filenames:\n",
    "        print(os.path.join(dirname, filename))\n",
    "\n",
    "# You can write up to 20GB to the current directory (/kaggle/working/) that gets preserved as output when you create a version using \"Save & Run All\" \n",
    "# You can also write temporary files to /kaggle/temp/, but they won't be saved outside of the current session"
   ]
  },
  {
   "cell_type": "code",
   "execution_count": 2,
   "id": "78ab8261",
   "metadata": {
    "execution": {
     "iopub.execute_input": "2025-05-27T08:44:40.648747Z",
     "iopub.status.busy": "2025-05-27T08:44:40.648387Z",
     "iopub.status.idle": "2025-05-27T08:44:42.231531Z",
     "shell.execute_reply": "2025-05-27T08:44:42.230951Z"
    },
    "papermill": {
     "duration": 1.590174,
     "end_time": "2025-05-27T08:44:42.232822",
     "exception": false,
     "start_time": "2025-05-27T08:44:40.642648",
     "status": "completed"
    },
    "tags": []
   },
   "outputs": [],
   "source": [
    "df = pd.read_csv('/kaggle/input/imdb-dataset-of-50k-movie-reviews/IMDB Dataset.csv')"
   ]
  },
  {
   "cell_type": "code",
   "execution_count": 3,
   "id": "2163933e",
   "metadata": {
    "execution": {
     "iopub.execute_input": "2025-05-27T08:44:42.244514Z",
     "iopub.status.busy": "2025-05-27T08:44:42.244284Z",
     "iopub.status.idle": "2025-05-27T08:44:42.266037Z",
     "shell.execute_reply": "2025-05-27T08:44:42.265230Z"
    },
    "papermill": {
     "duration": 0.029,
     "end_time": "2025-05-27T08:44:42.267128",
     "exception": false,
     "start_time": "2025-05-27T08:44:42.238128",
     "status": "completed"
    },
    "tags": []
   },
   "outputs": [
    {
     "data": {
      "text/html": [
       "<div>\n",
       "<style scoped>\n",
       "    .dataframe tbody tr th:only-of-type {\n",
       "        vertical-align: middle;\n",
       "    }\n",
       "\n",
       "    .dataframe tbody tr th {\n",
       "        vertical-align: top;\n",
       "    }\n",
       "\n",
       "    .dataframe thead th {\n",
       "        text-align: right;\n",
       "    }\n",
       "</style>\n",
       "<table border=\"1\" class=\"dataframe\">\n",
       "  <thead>\n",
       "    <tr style=\"text-align: right;\">\n",
       "      <th></th>\n",
       "      <th>review</th>\n",
       "      <th>sentiment</th>\n",
       "    </tr>\n",
       "  </thead>\n",
       "  <tbody>\n",
       "    <tr>\n",
       "      <th>0</th>\n",
       "      <td>One of the other reviewers has mentioned that ...</td>\n",
       "      <td>positive</td>\n",
       "    </tr>\n",
       "    <tr>\n",
       "      <th>1</th>\n",
       "      <td>A wonderful little production. &lt;br /&gt;&lt;br /&gt;The...</td>\n",
       "      <td>positive</td>\n",
       "    </tr>\n",
       "    <tr>\n",
       "      <th>2</th>\n",
       "      <td>I thought this was a wonderful way to spend ti...</td>\n",
       "      <td>positive</td>\n",
       "    </tr>\n",
       "    <tr>\n",
       "      <th>3</th>\n",
       "      <td>Basically there's a family where a little boy ...</td>\n",
       "      <td>negative</td>\n",
       "    </tr>\n",
       "    <tr>\n",
       "      <th>4</th>\n",
       "      <td>Petter Mattei's \"Love in the Time of Money\" is...</td>\n",
       "      <td>positive</td>\n",
       "    </tr>\n",
       "  </tbody>\n",
       "</table>\n",
       "</div>"
      ],
      "text/plain": [
       "                                              review sentiment\n",
       "0  One of the other reviewers has mentioned that ...  positive\n",
       "1  A wonderful little production. <br /><br />The...  positive\n",
       "2  I thought this was a wonderful way to spend ti...  positive\n",
       "3  Basically there's a family where a little boy ...  negative\n",
       "4  Petter Mattei's \"Love in the Time of Money\" is...  positive"
      ]
     },
     "execution_count": 3,
     "metadata": {},
     "output_type": "execute_result"
    }
   ],
   "source": [
    "df.head()"
   ]
  },
  {
   "cell_type": "code",
   "execution_count": 4,
   "id": "38e9de0b",
   "metadata": {
    "execution": {
     "iopub.execute_input": "2025-05-27T08:44:42.280116Z",
     "iopub.status.busy": "2025-05-27T08:44:42.279035Z",
     "iopub.status.idle": "2025-05-27T08:44:42.284275Z",
     "shell.execute_reply": "2025-05-27T08:44:42.283517Z"
    },
    "papermill": {
     "duration": 0.012539,
     "end_time": "2025-05-27T08:44:42.285344",
     "exception": false,
     "start_time": "2025-05-27T08:44:42.272805",
     "status": "completed"
    },
    "tags": []
   },
   "outputs": [
    {
     "data": {
      "text/plain": [
       "(50000, 2)"
      ]
     },
     "execution_count": 4,
     "metadata": {},
     "output_type": "execute_result"
    }
   ],
   "source": [
    "df.shape"
   ]
  },
  {
   "cell_type": "code",
   "execution_count": 5,
   "id": "765591de",
   "metadata": {
    "execution": {
     "iopub.execute_input": "2025-05-27T08:44:42.297807Z",
     "iopub.status.busy": "2025-05-27T08:44:42.297573Z",
     "iopub.status.idle": "2025-05-27T08:44:42.333025Z",
     "shell.execute_reply": "2025-05-27T08:44:42.332135Z"
    },
    "papermill": {
     "duration": 0.04333,
     "end_time": "2025-05-27T08:44:42.334211",
     "exception": false,
     "start_time": "2025-05-27T08:44:42.290881",
     "status": "completed"
    },
    "tags": []
   },
   "outputs": [
    {
     "name": "stdout",
     "output_type": "stream",
     "text": [
      "<class 'pandas.core.frame.DataFrame'>\n",
      "RangeIndex: 50000 entries, 0 to 49999\n",
      "Data columns (total 2 columns):\n",
      " #   Column     Non-Null Count  Dtype \n",
      "---  ------     --------------  ----- \n",
      " 0   review     50000 non-null  object\n",
      " 1   sentiment  50000 non-null  object\n",
      "dtypes: object(2)\n",
      "memory usage: 781.4+ KB\n"
     ]
    }
   ],
   "source": [
    "df.info()"
   ]
  },
  {
   "cell_type": "code",
   "execution_count": 6,
   "id": "5bf77616",
   "metadata": {
    "execution": {
     "iopub.execute_input": "2025-05-27T08:44:42.346303Z",
     "iopub.status.busy": "2025-05-27T08:44:42.346029Z",
     "iopub.status.idle": "2025-05-27T08:44:42.361637Z",
     "shell.execute_reply": "2025-05-27T08:44:42.361058Z"
    },
    "papermill": {
     "duration": 0.022719,
     "end_time": "2025-05-27T08:44:42.362547",
     "exception": false,
     "start_time": "2025-05-27T08:44:42.339828",
     "status": "completed"
    },
    "tags": []
   },
   "outputs": [
    {
     "data": {
      "text/plain": [
       "review       0\n",
       "sentiment    0\n",
       "dtype: int64"
      ]
     },
     "execution_count": 6,
     "metadata": {},
     "output_type": "execute_result"
    }
   ],
   "source": [
    "df.isnull().sum()"
   ]
  },
  {
   "cell_type": "code",
   "execution_count": 7,
   "id": "7cac251e",
   "metadata": {
    "execution": {
     "iopub.execute_input": "2025-05-27T08:44:42.374613Z",
     "iopub.status.busy": "2025-05-27T08:44:42.374367Z",
     "iopub.status.idle": "2025-05-27T08:44:42.378980Z",
     "shell.execute_reply": "2025-05-27T08:44:42.378318Z"
    },
    "papermill": {
     "duration": 0.0122,
     "end_time": "2025-05-27T08:44:42.380377",
     "exception": false,
     "start_time": "2025-05-27T08:44:42.368177",
     "status": "completed"
    },
    "tags": []
   },
   "outputs": [
    {
     "data": {
      "text/plain": [
       "\"One of the other reviewers has mentioned that after watching just 1 Oz episode you'll be hooked. They are right, as this is exactly what happened with me.<br /><br />The first thing that struck me about Oz was its brutality and unflinching scenes of violence, which set in right from the word GO. Trust me, this is not a show for the faint hearted or timid. This show pulls no punches with regards to drugs, sex or violence. Its is hardcore, in the classic use of the word.<br /><br />It is called OZ as that is the nickname given to the Oswald Maximum Security State Penitentary. It focuses mainly on Emerald City, an experimental section of the prison where all the cells have glass fronts and face inwards, so privacy is not high on the agenda. Em City is home to many..Aryans, Muslims, gangstas, Latinos, Christians, Italians, Irish and more....so scuffles, death stares, dodgy dealings and shady agreements are never far away.<br /><br />I would say the main appeal of the show is due to the fact that it goes where other shows wouldn't dare. Forget pretty pictures painted for mainstream audiences, forget charm, forget romance...OZ doesn't mess around. The first episode I ever saw struck me as so nasty it was surreal, I couldn't say I was ready for it, but as I watched more, I developed a taste for Oz, and got accustomed to the high levels of graphic violence. Not just violence, but injustice (crooked guards who'll be sold out for a nickel, inmates who'll kill on order and get away with it, well mannered, middle class inmates being turned into prison bitches due to their lack of street skills or prison experience) Watching Oz, you may become comfortable with what is uncomfortable viewing....thats if you can get in touch with your darker side.\""
      ]
     },
     "execution_count": 7,
     "metadata": {},
     "output_type": "execute_result"
    }
   ],
   "source": [
    "df['review'][0]"
   ]
  },
  {
   "cell_type": "code",
   "execution_count": 8,
   "id": "bd4f1dcb",
   "metadata": {
    "execution": {
     "iopub.execute_input": "2025-05-27T08:44:42.392882Z",
     "iopub.status.busy": "2025-05-27T08:44:42.392606Z",
     "iopub.status.idle": "2025-05-27T08:44:42.400479Z",
     "shell.execute_reply": "2025-05-27T08:44:42.399867Z"
    },
    "papermill": {
     "duration": 0.015405,
     "end_time": "2025-05-27T08:44:42.401716",
     "exception": false,
     "start_time": "2025-05-27T08:44:42.386311",
     "status": "completed"
    },
    "tags": []
   },
   "outputs": [
    {
     "data": {
      "text/plain": [
       "sentiment\n",
       "positive    25000\n",
       "negative    25000\n",
       "Name: count, dtype: int64"
      ]
     },
     "execution_count": 8,
     "metadata": {},
     "output_type": "execute_result"
    }
   ],
   "source": [
    "df['sentiment'].value_counts()"
   ]
  },
  {
   "cell_type": "markdown",
   "id": "d3c3a55f",
   "metadata": {
    "papermill": {
     "duration": 0.004975,
     "end_time": "2025-05-27T08:44:42.412503",
     "exception": false,
     "start_time": "2025-05-27T08:44:42.407528",
     "status": "completed"
    },
    "tags": []
   },
   "source": [
    "the task is to classify a given review as positive or negative by understanding the sentiment of the text written in the review"
   ]
  },
  {
   "cell_type": "code",
   "execution_count": 9,
   "id": "6b415f22",
   "metadata": {
    "execution": {
     "iopub.execute_input": "2025-05-27T08:44:42.424197Z",
     "iopub.status.busy": "2025-05-27T08:44:42.423929Z",
     "iopub.status.idle": "2025-05-27T08:44:42.427163Z",
     "shell.execute_reply": "2025-05-27T08:44:42.426601Z"
    },
    "papermill": {
     "duration": 0.01042,
     "end_time": "2025-05-27T08:44:42.428120",
     "exception": false,
     "start_time": "2025-05-27T08:44:42.417700",
     "status": "completed"
    },
    "tags": []
   },
   "outputs": [],
   "source": [
    "# steps \n",
    "\n",
    "# 1) text preprocessing (removing html tags , stopwords etc)\n",
    "# 2) vectorize the preprocessed text (vectorization the process of converting the text to numbers) eg -> BagOfWords , TF-IDF , WordToVec\n",
    "# 3) apply naive bayes "
   ]
  },
  {
   "cell_type": "markdown",
   "id": "3f668106",
   "metadata": {
    "papermill": {
     "duration": 0.005091,
     "end_time": "2025-05-27T08:44:42.438760",
     "exception": false,
     "start_time": "2025-05-27T08:44:42.433669",
     "status": "completed"
    },
    "tags": []
   },
   "source": [
    "# 1) Text Preprocessing"
   ]
  },
  {
   "cell_type": "markdown",
   "id": "41b74251",
   "metadata": {
    "papermill": {
     "duration": 0.005202,
     "end_time": "2025-05-27T08:44:42.449441",
     "exception": false,
     "start_time": "2025-05-27T08:44:42.444239",
     "status": "completed"
    },
    "tags": []
   },
   "source": [
    "1) take 10000 rows from all te avialable rows\n",
    "2) remove html tags\n",
    "3) remove special characters\n",
    "4) remove stopwords\n",
    "5) convert to lowercase\n",
    "6) Stemming"
   ]
  },
  {
   "cell_type": "code",
   "execution_count": 10,
   "id": "3e7cc5e8",
   "metadata": {
    "execution": {
     "iopub.execute_input": "2025-05-27T08:44:42.461137Z",
     "iopub.status.busy": "2025-05-27T08:44:42.460879Z",
     "iopub.status.idle": "2025-05-27T08:44:42.467621Z",
     "shell.execute_reply": "2025-05-27T08:44:42.466961Z"
    },
    "papermill": {
     "duration": 0.013675,
     "end_time": "2025-05-27T08:44:42.468496",
     "exception": false,
     "start_time": "2025-05-27T08:44:42.454821",
     "status": "completed"
    },
    "tags": []
   },
   "outputs": [],
   "source": [
    "df = df.sample(10000)"
   ]
  },
  {
   "cell_type": "code",
   "execution_count": 11,
   "id": "e5947329",
   "metadata": {
    "execution": {
     "iopub.execute_input": "2025-05-27T08:44:42.480510Z",
     "iopub.status.busy": "2025-05-27T08:44:42.480303Z",
     "iopub.status.idle": "2025-05-27T08:44:42.484546Z",
     "shell.execute_reply": "2025-05-27T08:44:42.483781Z"
    },
    "papermill": {
     "duration": 0.011453,
     "end_time": "2025-05-27T08:44:42.485658",
     "exception": false,
     "start_time": "2025-05-27T08:44:42.474205",
     "status": "completed"
    },
    "tags": []
   },
   "outputs": [
    {
     "data": {
      "text/plain": [
       "(10000, 2)"
      ]
     },
     "execution_count": 11,
     "metadata": {},
     "output_type": "execute_result"
    }
   ],
   "source": [
    "df.shape"
   ]
  },
  {
   "cell_type": "code",
   "execution_count": 12,
   "id": "a7033cad",
   "metadata": {
    "execution": {
     "iopub.execute_input": "2025-05-27T08:44:42.497563Z",
     "iopub.status.busy": "2025-05-27T08:44:42.497332Z",
     "iopub.status.idle": "2025-05-27T08:44:42.504513Z",
     "shell.execute_reply": "2025-05-27T08:44:42.503822Z"
    },
    "papermill": {
     "duration": 0.014287,
     "end_time": "2025-05-27T08:44:42.505530",
     "exception": false,
     "start_time": "2025-05-27T08:44:42.491243",
     "status": "completed"
    },
    "tags": []
   },
   "outputs": [
    {
     "name": "stderr",
     "output_type": "stream",
     "text": [
      "/tmp/ipykernel_13/4240984564.py:1: FutureWarning: A value is trying to be set on a copy of a DataFrame or Series through chained assignment using an inplace method.\n",
      "The behavior will change in pandas 3.0. This inplace method will never work because the intermediate object on which we are setting values always behaves as a copy.\n",
      "\n",
      "For example, when doing 'df[col].method(value, inplace=True)', try using 'df.method({col: value}, inplace=True)' or df[col] = df[col].method(value) instead, to perform the operation inplace on the original object.\n",
      "\n",
      "\n",
      "  df['sentiment'].replace({'positive':1,'negative':0},inplace=True)\n",
      "/tmp/ipykernel_13/4240984564.py:1: FutureWarning: Downcasting behavior in `replace` is deprecated and will be removed in a future version. To retain the old behavior, explicitly call `result.infer_objects(copy=False)`. To opt-in to the future behavior, set `pd.set_option('future.no_silent_downcasting', True)`\n",
      "  df['sentiment'].replace({'positive':1,'negative':0},inplace=True)\n"
     ]
    }
   ],
   "source": [
    "df['sentiment'].replace({'positive':1,'negative':0},inplace=True)"
   ]
  },
  {
   "cell_type": "code",
   "execution_count": 13,
   "id": "d705c74f",
   "metadata": {
    "execution": {
     "iopub.execute_input": "2025-05-27T08:44:42.518364Z",
     "iopub.status.busy": "2025-05-27T08:44:42.518070Z",
     "iopub.status.idle": "2025-05-27T08:44:42.524781Z",
     "shell.execute_reply": "2025-05-27T08:44:42.524249Z"
    },
    "papermill": {
     "duration": 0.01436,
     "end_time": "2025-05-27T08:44:42.525750",
     "exception": false,
     "start_time": "2025-05-27T08:44:42.511390",
     "status": "completed"
    },
    "tags": []
   },
   "outputs": [
    {
     "data": {
      "text/html": [
       "<div>\n",
       "<style scoped>\n",
       "    .dataframe tbody tr th:only-of-type {\n",
       "        vertical-align: middle;\n",
       "    }\n",
       "\n",
       "    .dataframe tbody tr th {\n",
       "        vertical-align: top;\n",
       "    }\n",
       "\n",
       "    .dataframe thead th {\n",
       "        text-align: right;\n",
       "    }\n",
       "</style>\n",
       "<table border=\"1\" class=\"dataframe\">\n",
       "  <thead>\n",
       "    <tr style=\"text-align: right;\">\n",
       "      <th></th>\n",
       "      <th>review</th>\n",
       "      <th>sentiment</th>\n",
       "    </tr>\n",
       "  </thead>\n",
       "  <tbody>\n",
       "    <tr>\n",
       "      <th>43560</th>\n",
       "      <td>Whenever a Columbo story deviates from the fam...</td>\n",
       "      <td>0</td>\n",
       "    </tr>\n",
       "    <tr>\n",
       "      <th>19788</th>\n",
       "      <td>Sadly a great opportunity to utilise a superb ...</td>\n",
       "      <td>0</td>\n",
       "    </tr>\n",
       "    <tr>\n",
       "      <th>42384</th>\n",
       "      <td>Pretentious claptrap, updating Herman Melville...</td>\n",
       "      <td>0</td>\n",
       "    </tr>\n",
       "    <tr>\n",
       "      <th>23445</th>\n",
       "      <td>I'm a big fan of Naruto, even though I haven't...</td>\n",
       "      <td>1</td>\n",
       "    </tr>\n",
       "    <tr>\n",
       "      <th>12887</th>\n",
       "      <td>In trying to keep up with the hipness of youth...</td>\n",
       "      <td>0</td>\n",
       "    </tr>\n",
       "  </tbody>\n",
       "</table>\n",
       "</div>"
      ],
      "text/plain": [
       "                                                  review  sentiment\n",
       "43560  Whenever a Columbo story deviates from the fam...          0\n",
       "19788  Sadly a great opportunity to utilise a superb ...          0\n",
       "42384  Pretentious claptrap, updating Herman Melville...          0\n",
       "23445  I'm a big fan of Naruto, even though I haven't...          1\n",
       "12887  In trying to keep up with the hipness of youth...          0"
      ]
     },
     "execution_count": 13,
     "metadata": {},
     "output_type": "execute_result"
    }
   ],
   "source": [
    "df.head()"
   ]
  },
  {
   "cell_type": "code",
   "execution_count": 14,
   "id": "6132f4a8",
   "metadata": {
    "execution": {
     "iopub.execute_input": "2025-05-27T08:44:42.538510Z",
     "iopub.status.busy": "2025-05-27T08:44:42.538081Z",
     "iopub.status.idle": "2025-05-27T08:44:42.542739Z",
     "shell.execute_reply": "2025-05-27T08:44:42.542153Z"
    },
    "papermill": {
     "duration": 0.011885,
     "end_time": "2025-05-27T08:44:42.543676",
     "exception": false,
     "start_time": "2025-05-27T08:44:42.531791",
     "status": "completed"
    },
    "tags": []
   },
   "outputs": [
    {
     "data": {
      "text/plain": [
       "\"Pretentious claptrap, updating Herman Melville (!), about a young man's vaguely incestuous relationship with his aristocratic mother getting transferred to his long-lost sister who has been raised by gypsies. Or something like that \\x96 not that anyone really cares to unravel its multi-layered plot decked out with pornographic sex scenes, pseudo-symbolic imagery (the siblings swimming in a river of blood) and other bizarre touches (a gypsy child repeatedly insults passers-by in the street until she is anonymously beaten to death, the deafening music of a rock group utilized in the demolition of old buildings). Considering the source material and the presence of Catherine Deneuve (who at least gets to bathe in the nude), I was expecting a lot more from this one; apparently, there's an even longer TV version of POLA X out there\\x85\""
      ]
     },
     "execution_count": 14,
     "metadata": {},
     "output_type": "execute_result"
    }
   ],
   "source": [
    "# demo of removing html tags\n",
    "import re \n",
    "cleaned = re.compile('<*.?>')\n",
    "re.sub(cleaned,'',df.iloc[2].review)"
   ]
  },
  {
   "cell_type": "code",
   "execution_count": 15,
   "id": "f5055633",
   "metadata": {
    "execution": {
     "iopub.execute_input": "2025-05-27T08:44:42.617807Z",
     "iopub.status.busy": "2025-05-27T08:44:42.617563Z",
     "iopub.status.idle": "2025-05-27T08:44:42.961210Z",
     "shell.execute_reply": "2025-05-27T08:44:42.960115Z"
    },
    "papermill": {
     "duration": 0.351968,
     "end_time": "2025-05-27T08:44:42.962701",
     "exception": false,
     "start_time": "2025-05-27T08:44:42.610733",
     "status": "completed"
    },
    "tags": []
   },
   "outputs": [],
   "source": [
    "def remove_tags(text):\n",
    "    clean = re.compile('<*>?>')\n",
    "    return re.sub(clean,'',text)\n",
    "\n",
    "df['review']=df['review'].apply(remove_tags)\n",
    "    "
   ]
  },
  {
   "cell_type": "code",
   "execution_count": 16,
   "id": "7acf2f12",
   "metadata": {
    "execution": {
     "iopub.execute_input": "2025-05-27T08:44:42.975880Z",
     "iopub.status.busy": "2025-05-27T08:44:42.975654Z",
     "iopub.status.idle": "2025-05-27T08:44:43.014684Z",
     "shell.execute_reply": "2025-05-27T08:44:43.013769Z"
    },
    "papermill": {
     "duration": 0.047071,
     "end_time": "2025-05-27T08:44:43.015935",
     "exception": false,
     "start_time": "2025-05-27T08:44:42.968864",
     "status": "completed"
    },
    "tags": []
   },
   "outputs": [],
   "source": [
    "# convert to lower case\n",
    "def tolower(text):\n",
    "    return text.lower()\n",
    "\n",
    "df['review']=df['review'].apply(tolower)"
   ]
  },
  {
   "cell_type": "code",
   "execution_count": 17,
   "id": "126faa29",
   "metadata": {
    "execution": {
     "iopub.execute_input": "2025-05-27T08:44:43.029335Z",
     "iopub.status.busy": "2025-05-27T08:44:43.029084Z",
     "iopub.status.idle": "2025-05-27T08:44:43.035524Z",
     "shell.execute_reply": "2025-05-27T08:44:43.034825Z"
    },
    "papermill": {
     "duration": 0.014457,
     "end_time": "2025-05-27T08:44:43.036714",
     "exception": false,
     "start_time": "2025-05-27T08:44:43.022257",
     "status": "completed"
    },
    "tags": []
   },
   "outputs": [
    {
     "data": {
      "text/html": [
       "<div>\n",
       "<style scoped>\n",
       "    .dataframe tbody tr th:only-of-type {\n",
       "        vertical-align: middle;\n",
       "    }\n",
       "\n",
       "    .dataframe tbody tr th {\n",
       "        vertical-align: top;\n",
       "    }\n",
       "\n",
       "    .dataframe thead th {\n",
       "        text-align: right;\n",
       "    }\n",
       "</style>\n",
       "<table border=\"1\" class=\"dataframe\">\n",
       "  <thead>\n",
       "    <tr style=\"text-align: right;\">\n",
       "      <th></th>\n",
       "      <th>review</th>\n",
       "      <th>sentiment</th>\n",
       "    </tr>\n",
       "  </thead>\n",
       "  <tbody>\n",
       "    <tr>\n",
       "      <th>43560</th>\n",
       "      <td>whenever a columbo story deviates from the fam...</td>\n",
       "      <td>0</td>\n",
       "    </tr>\n",
       "    <tr>\n",
       "      <th>19788</th>\n",
       "      <td>sadly a great opportunity to utilise a superb ...</td>\n",
       "      <td>0</td>\n",
       "    </tr>\n",
       "    <tr>\n",
       "      <th>42384</th>\n",
       "      <td>pretentious claptrap, updating herman melville...</td>\n",
       "      <td>0</td>\n",
       "    </tr>\n",
       "    <tr>\n",
       "      <th>23445</th>\n",
       "      <td>i'm a big fan of naruto, even though i haven't...</td>\n",
       "      <td>1</td>\n",
       "    </tr>\n",
       "    <tr>\n",
       "      <th>12887</th>\n",
       "      <td>in trying to keep up with the hipness of youth...</td>\n",
       "      <td>0</td>\n",
       "    </tr>\n",
       "  </tbody>\n",
       "</table>\n",
       "</div>"
      ],
      "text/plain": [
       "                                                  review  sentiment\n",
       "43560  whenever a columbo story deviates from the fam...          0\n",
       "19788  sadly a great opportunity to utilise a superb ...          0\n",
       "42384  pretentious claptrap, updating herman melville...          0\n",
       "23445  i'm a big fan of naruto, even though i haven't...          1\n",
       "12887  in trying to keep up with the hipness of youth...          0"
      ]
     },
     "execution_count": 17,
     "metadata": {},
     "output_type": "execute_result"
    }
   ],
   "source": [
    "df.head()"
   ]
  },
  {
   "cell_type": "code",
   "execution_count": 18,
   "id": "bdcbb2a5",
   "metadata": {
    "execution": {
     "iopub.execute_input": "2025-05-27T08:44:43.050539Z",
     "iopub.status.busy": "2025-05-27T08:44:43.049924Z",
     "iopub.status.idle": "2025-05-27T08:44:43.232625Z",
     "shell.execute_reply": "2025-05-27T08:44:43.231829Z"
    },
    "papermill": {
     "duration": 0.19106,
     "end_time": "2025-05-27T08:44:43.233930",
     "exception": false,
     "start_time": "2025-05-27T08:44:43.042870",
     "status": "completed"
    },
    "tags": []
   },
   "outputs": [],
   "source": [
    "# remove the special characters from the text \n",
    "\n",
    "def remove_special(text):\n",
    "    removed = re.sub(r'[^a-zA-Z0-9\\s]', '', text)\n",
    "    return removed\n",
    "\n",
    "df['review']=df['review'].apply(remove_special)"
   ]
  },
  {
   "cell_type": "code",
   "execution_count": 19,
   "id": "9f8cdedc",
   "metadata": {
    "execution": {
     "iopub.execute_input": "2025-05-27T08:44:43.247135Z",
     "iopub.status.busy": "2025-05-27T08:44:43.246874Z",
     "iopub.status.idle": "2025-05-27T08:44:43.252523Z",
     "shell.execute_reply": "2025-05-27T08:44:43.251846Z"
    },
    "papermill": {
     "duration": 0.013726,
     "end_time": "2025-05-27T08:44:43.253891",
     "exception": false,
     "start_time": "2025-05-27T08:44:43.240165",
     "status": "completed"
    },
    "tags": []
   },
   "outputs": [
    {
     "data": {
      "text/plain": [
       "43560    whenever a columbo story deviates from the fam...\n",
       "19788    sadly a great opportunity to utilise a superb ...\n",
       "42384    pretentious claptrap updating herman melville ...\n",
       "23445    im a big fan of naruto even though i havent wa...\n",
       "12887    in trying to keep up with the hipness of youth...\n",
       "Name: review, dtype: object"
      ]
     },
     "execution_count": 19,
     "metadata": {},
     "output_type": "execute_result"
    }
   ],
   "source": [
    "df['review'].head()\n",
    "\n",
    "# the text is now in lower case doesnot have special characters and html tags"
   ]
  },
  {
   "cell_type": "code",
   "execution_count": 20,
   "id": "a82aeb5e",
   "metadata": {
    "execution": {
     "iopub.execute_input": "2025-05-27T08:44:43.268244Z",
     "iopub.status.busy": "2025-05-27T08:44:43.267951Z",
     "iopub.status.idle": "2025-05-27T08:44:45.696836Z",
     "shell.execute_reply": "2025-05-27T08:44:45.696080Z"
    },
    "papermill": {
     "duration": 2.437558,
     "end_time": "2025-05-27T08:44:45.697852",
     "exception": false,
     "start_time": "2025-05-27T08:44:43.260294",
     "status": "completed"
    },
    "tags": []
   },
   "outputs": [
    {
     "data": {
      "text/plain": [
       "['a',\n",
       " 'about',\n",
       " 'above',\n",
       " 'after',\n",
       " 'again',\n",
       " 'against',\n",
       " 'ain',\n",
       " 'all',\n",
       " 'am',\n",
       " 'an',\n",
       " 'and',\n",
       " 'any',\n",
       " 'are',\n",
       " 'aren',\n",
       " \"aren't\",\n",
       " 'as',\n",
       " 'at',\n",
       " 'be',\n",
       " 'because',\n",
       " 'been',\n",
       " 'before',\n",
       " 'being',\n",
       " 'below',\n",
       " 'between',\n",
       " 'both',\n",
       " 'but',\n",
       " 'by',\n",
       " 'can',\n",
       " 'couldn',\n",
       " \"couldn't\",\n",
       " 'd',\n",
       " 'did',\n",
       " 'didn',\n",
       " \"didn't\",\n",
       " 'do',\n",
       " 'does',\n",
       " 'doesn',\n",
       " \"doesn't\",\n",
       " 'doing',\n",
       " 'don',\n",
       " \"don't\",\n",
       " 'down',\n",
       " 'during',\n",
       " 'each',\n",
       " 'few',\n",
       " 'for',\n",
       " 'from',\n",
       " 'further',\n",
       " 'had',\n",
       " 'hadn',\n",
       " \"hadn't\",\n",
       " 'has',\n",
       " 'hasn',\n",
       " \"hasn't\",\n",
       " 'have',\n",
       " 'haven',\n",
       " \"haven't\",\n",
       " 'having',\n",
       " 'he',\n",
       " \"he'd\",\n",
       " \"he'll\",\n",
       " 'her',\n",
       " 'here',\n",
       " 'hers',\n",
       " 'herself',\n",
       " \"he's\",\n",
       " 'him',\n",
       " 'himself',\n",
       " 'his',\n",
       " 'how',\n",
       " 'i',\n",
       " \"i'd\",\n",
       " 'if',\n",
       " \"i'll\",\n",
       " \"i'm\",\n",
       " 'in',\n",
       " 'into',\n",
       " 'is',\n",
       " 'isn',\n",
       " \"isn't\",\n",
       " 'it',\n",
       " \"it'd\",\n",
       " \"it'll\",\n",
       " \"it's\",\n",
       " 'its',\n",
       " 'itself',\n",
       " \"i've\",\n",
       " 'just',\n",
       " 'll',\n",
       " 'm',\n",
       " 'ma',\n",
       " 'me',\n",
       " 'mightn',\n",
       " \"mightn't\",\n",
       " 'more',\n",
       " 'most',\n",
       " 'mustn',\n",
       " \"mustn't\",\n",
       " 'my',\n",
       " 'myself',\n",
       " 'needn',\n",
       " \"needn't\",\n",
       " 'no',\n",
       " 'nor',\n",
       " 'not',\n",
       " 'now',\n",
       " 'o',\n",
       " 'of',\n",
       " 'off',\n",
       " 'on',\n",
       " 'once',\n",
       " 'only',\n",
       " 'or',\n",
       " 'other',\n",
       " 'our',\n",
       " 'ours',\n",
       " 'ourselves',\n",
       " 'out',\n",
       " 'over',\n",
       " 'own',\n",
       " 're',\n",
       " 's',\n",
       " 'same',\n",
       " 'shan',\n",
       " \"shan't\",\n",
       " 'she',\n",
       " \"she'd\",\n",
       " \"she'll\",\n",
       " \"she's\",\n",
       " 'should',\n",
       " 'shouldn',\n",
       " \"shouldn't\",\n",
       " \"should've\",\n",
       " 'so',\n",
       " 'some',\n",
       " 'such',\n",
       " 't',\n",
       " 'than',\n",
       " 'that',\n",
       " \"that'll\",\n",
       " 'the',\n",
       " 'their',\n",
       " 'theirs',\n",
       " 'them',\n",
       " 'themselves',\n",
       " 'then',\n",
       " 'there',\n",
       " 'these',\n",
       " 'they',\n",
       " \"they'd\",\n",
       " \"they'll\",\n",
       " \"they're\",\n",
       " \"they've\",\n",
       " 'this',\n",
       " 'those',\n",
       " 'through',\n",
       " 'to',\n",
       " 'too',\n",
       " 'under',\n",
       " 'until',\n",
       " 'up',\n",
       " 've',\n",
       " 'very',\n",
       " 'was',\n",
       " 'wasn',\n",
       " \"wasn't\",\n",
       " 'we',\n",
       " \"we'd\",\n",
       " \"we'll\",\n",
       " \"we're\",\n",
       " 'were',\n",
       " 'weren',\n",
       " \"weren't\",\n",
       " \"we've\",\n",
       " 'what',\n",
       " 'when',\n",
       " 'where',\n",
       " 'which',\n",
       " 'while',\n",
       " 'who',\n",
       " 'whom',\n",
       " 'why',\n",
       " 'will',\n",
       " 'with',\n",
       " 'won',\n",
       " \"won't\",\n",
       " 'wouldn',\n",
       " \"wouldn't\",\n",
       " 'y',\n",
       " 'you',\n",
       " \"you'd\",\n",
       " \"you'll\",\n",
       " 'your',\n",
       " \"you're\",\n",
       " 'yours',\n",
       " 'yourself',\n",
       " 'yourselves',\n",
       " \"you've\"]"
      ]
     },
     "execution_count": 20,
     "metadata": {},
     "output_type": "execute_result"
    }
   ],
   "source": [
    "# removing the stopwords \n",
    "# stopwords are the words which do not have any meaning in the sentence as we count the unique words. eg -> is , and , the \n",
    "\n",
    "import nltk\n",
    "from nltk.corpus import stopwords\n",
    "stopwords.words('english')\n",
    "\n",
    "\n",
    "# below are the set of words which will be removed as stopwords"
   ]
  },
  {
   "cell_type": "code",
   "execution_count": 21,
   "id": "755b38cc",
   "metadata": {
    "execution": {
     "iopub.execute_input": "2025-05-27T08:44:45.711665Z",
     "iopub.status.busy": "2025-05-27T08:44:45.711306Z",
     "iopub.status.idle": "2025-05-27T08:44:45.994471Z",
     "shell.execute_reply": "2025-05-27T08:44:45.993467Z"
    },
    "papermill": {
     "duration": 0.291615,
     "end_time": "2025-05-27T08:44:45.995876",
     "exception": false,
     "start_time": "2025-05-27T08:44:45.704261",
     "status": "completed"
    },
    "tags": []
   },
   "outputs": [],
   "source": [
    "# removing stopwords \n",
    "\n",
    "stop_words = set(stopwords.words('english'))\n",
    "def remove_stopwords(text):\n",
    "    removed_stopwords =[]\n",
    "    for i in text.split():\n",
    "        if i not in stop_words:\n",
    "            removed_stopwords.append(i)\n",
    "    return removed_stopwords\n",
    "\n",
    "df['review']= df['review'].apply(remove_stopwords)"
   ]
  },
  {
   "cell_type": "code",
   "execution_count": 22,
   "id": "7c882524",
   "metadata": {
    "execution": {
     "iopub.execute_input": "2025-05-27T08:44:46.009398Z",
     "iopub.status.busy": "2025-05-27T08:44:46.009132Z",
     "iopub.status.idle": "2025-05-27T08:44:46.017980Z",
     "shell.execute_reply": "2025-05-27T08:44:46.017218Z"
    },
    "papermill": {
     "duration": 0.017004,
     "end_time": "2025-05-27T08:44:46.019245",
     "exception": false,
     "start_time": "2025-05-27T08:44:46.002241",
     "status": "completed"
    },
    "tags": []
   },
   "outputs": [
    {
     "data": {
      "text/html": [
       "<div>\n",
       "<style scoped>\n",
       "    .dataframe tbody tr th:only-of-type {\n",
       "        vertical-align: middle;\n",
       "    }\n",
       "\n",
       "    .dataframe tbody tr th {\n",
       "        vertical-align: top;\n",
       "    }\n",
       "\n",
       "    .dataframe thead th {\n",
       "        text-align: right;\n",
       "    }\n",
       "</style>\n",
       "<table border=\"1\" class=\"dataframe\">\n",
       "  <thead>\n",
       "    <tr style=\"text-align: right;\">\n",
       "      <th></th>\n",
       "      <th>review</th>\n",
       "      <th>sentiment</th>\n",
       "    </tr>\n",
       "  </thead>\n",
       "  <tbody>\n",
       "    <tr>\n",
       "      <th>43560</th>\n",
       "      <td>[whenever, columbo, story, deviates, familiar,...</td>\n",
       "      <td>0</td>\n",
       "    </tr>\n",
       "    <tr>\n",
       "      <th>19788</th>\n",
       "      <td>[sadly, great, opportunity, utilise, superb, c...</td>\n",
       "      <td>0</td>\n",
       "    </tr>\n",
       "    <tr>\n",
       "      <th>42384</th>\n",
       "      <td>[pretentious, claptrap, updating, herman, melv...</td>\n",
       "      <td>0</td>\n",
       "    </tr>\n",
       "    <tr>\n",
       "      <th>23445</th>\n",
       "      <td>[im, big, fan, naruto, even, though, havent, w...</td>\n",
       "      <td>1</td>\n",
       "    </tr>\n",
       "    <tr>\n",
       "      <th>12887</th>\n",
       "      <td>[trying, keep, hipness, youthful, audiences, 7...</td>\n",
       "      <td>0</td>\n",
       "    </tr>\n",
       "  </tbody>\n",
       "</table>\n",
       "</div>"
      ],
      "text/plain": [
       "                                                  review  sentiment\n",
       "43560  [whenever, columbo, story, deviates, familiar,...          0\n",
       "19788  [sadly, great, opportunity, utilise, superb, c...          0\n",
       "42384  [pretentious, claptrap, updating, herman, melv...          0\n",
       "23445  [im, big, fan, naruto, even, though, havent, w...          1\n",
       "12887  [trying, keep, hipness, youthful, audiences, 7...          0"
      ]
     },
     "execution_count": 22,
     "metadata": {},
     "output_type": "execute_result"
    }
   ],
   "source": [
    "df.head()"
   ]
  },
  {
   "cell_type": "code",
   "execution_count": 23,
   "id": "bb6bed54",
   "metadata": {
    "execution": {
     "iopub.execute_input": "2025-05-27T08:44:46.033237Z",
     "iopub.status.busy": "2025-05-27T08:44:46.032889Z",
     "iopub.status.idle": "2025-05-27T08:44:58.013791Z",
     "shell.execute_reply": "2025-05-27T08:44:58.013061Z"
    },
    "papermill": {
     "duration": 11.989348,
     "end_time": "2025-05-27T08:44:58.015274",
     "exception": false,
     "start_time": "2025-05-27T08:44:46.025926",
     "status": "completed"
    },
    "tags": []
   },
   "outputs": [],
   "source": [
    "# Stemming \n",
    "# stemming is the process of converting the actual word to the root word \n",
    "\n",
    "from nltk.stem import PorterStemmer\n",
    "porter = PorterStemmer()\n",
    "\n",
    "\n",
    "def stemming(text):\n",
    "    stemmed = []\n",
    "    for i in text:\n",
    "        stemmed.append(porter.stem(i))\n",
    "    return stemmed \n",
    "    \n",
    "df['review'] = df['review'].apply(stemming)"
   ]
  },
  {
   "cell_type": "code",
   "execution_count": 24,
   "id": "6cbdc4a6",
   "metadata": {
    "execution": {
     "iopub.execute_input": "2025-05-27T08:44:58.029841Z",
     "iopub.status.busy": "2025-05-27T08:44:58.029602Z",
     "iopub.status.idle": "2025-05-27T08:44:58.037714Z",
     "shell.execute_reply": "2025-05-27T08:44:58.037109Z"
    },
    "papermill": {
     "duration": 0.016995,
     "end_time": "2025-05-27T08:44:58.038661",
     "exception": false,
     "start_time": "2025-05-27T08:44:58.021666",
     "status": "completed"
    },
    "tags": []
   },
   "outputs": [
    {
     "data": {
      "text/html": [
       "<div>\n",
       "<style scoped>\n",
       "    .dataframe tbody tr th:only-of-type {\n",
       "        vertical-align: middle;\n",
       "    }\n",
       "\n",
       "    .dataframe tbody tr th {\n",
       "        vertical-align: top;\n",
       "    }\n",
       "\n",
       "    .dataframe thead th {\n",
       "        text-align: right;\n",
       "    }\n",
       "</style>\n",
       "<table border=\"1\" class=\"dataframe\">\n",
       "  <thead>\n",
       "    <tr style=\"text-align: right;\">\n",
       "      <th></th>\n",
       "      <th>review</th>\n",
       "      <th>sentiment</th>\n",
       "    </tr>\n",
       "  </thead>\n",
       "  <tbody>\n",
       "    <tr>\n",
       "      <th>43560</th>\n",
       "      <td>[whenev, columbo, stori, deviat, familiar, plo...</td>\n",
       "      <td>0</td>\n",
       "    </tr>\n",
       "    <tr>\n",
       "      <th>19788</th>\n",
       "      <td>[sadli, great, opportun, utilis, superb, cast,...</td>\n",
       "      <td>0</td>\n",
       "    </tr>\n",
       "    <tr>\n",
       "      <th>42384</th>\n",
       "      <td>[pretenti, claptrap, updat, herman, melvil, yo...</td>\n",
       "      <td>0</td>\n",
       "    </tr>\n",
       "    <tr>\n",
       "      <th>23445</th>\n",
       "      <td>[im, big, fan, naruto, even, though, havent, w...</td>\n",
       "      <td>1</td>\n",
       "    </tr>\n",
       "    <tr>\n",
       "      <th>12887</th>\n",
       "      <td>[tri, keep, hip, youth, audienc, 70, approach,...</td>\n",
       "      <td>0</td>\n",
       "    </tr>\n",
       "  </tbody>\n",
       "</table>\n",
       "</div>"
      ],
      "text/plain": [
       "                                                  review  sentiment\n",
       "43560  [whenev, columbo, stori, deviat, familiar, plo...          0\n",
       "19788  [sadli, great, opportun, utilis, superb, cast,...          0\n",
       "42384  [pretenti, claptrap, updat, herman, melvil, yo...          0\n",
       "23445  [im, big, fan, naruto, even, though, havent, w...          1\n",
       "12887  [tri, keep, hip, youth, audienc, 70, approach,...          0"
      ]
     },
     "execution_count": 24,
     "metadata": {},
     "output_type": "execute_result"
    }
   ],
   "source": [
    "df.head()"
   ]
  },
  {
   "cell_type": "code",
   "execution_count": 25,
   "id": "2167fd29",
   "metadata": {
    "execution": {
     "iopub.execute_input": "2025-05-27T08:44:58.052594Z",
     "iopub.status.busy": "2025-05-27T08:44:58.052337Z",
     "iopub.status.idle": "2025-05-27T08:44:58.084619Z",
     "shell.execute_reply": "2025-05-27T08:44:58.083962Z"
    },
    "papermill": {
     "duration": 0.040326,
     "end_time": "2025-05-27T08:44:58.085620",
     "exception": false,
     "start_time": "2025-05-27T08:44:58.045294",
     "status": "completed"
    },
    "tags": []
   },
   "outputs": [],
   "source": [
    "# join back the words from the list together to form a sentence again\n",
    "\n",
    "def join_back(list_input):\n",
    "    return \" \".join(list_input)\n",
    "\n",
    "df['review']=df['review'].apply(join_back)"
   ]
  },
  {
   "cell_type": "code",
   "execution_count": 26,
   "id": "22134e1e",
   "metadata": {
    "execution": {
     "iopub.execute_input": "2025-05-27T08:44:58.099245Z",
     "iopub.status.busy": "2025-05-27T08:44:58.098971Z",
     "iopub.status.idle": "2025-05-27T08:44:58.105894Z",
     "shell.execute_reply": "2025-05-27T08:44:58.105147Z"
    },
    "papermill": {
     "duration": 0.014829,
     "end_time": "2025-05-27T08:44:58.106980",
     "exception": false,
     "start_time": "2025-05-27T08:44:58.092151",
     "status": "completed"
    },
    "tags": []
   },
   "outputs": [
    {
     "data": {
      "text/html": [
       "<div>\n",
       "<style scoped>\n",
       "    .dataframe tbody tr th:only-of-type {\n",
       "        vertical-align: middle;\n",
       "    }\n",
       "\n",
       "    .dataframe tbody tr th {\n",
       "        vertical-align: top;\n",
       "    }\n",
       "\n",
       "    .dataframe thead th {\n",
       "        text-align: right;\n",
       "    }\n",
       "</style>\n",
       "<table border=\"1\" class=\"dataframe\">\n",
       "  <thead>\n",
       "    <tr style=\"text-align: right;\">\n",
       "      <th></th>\n",
       "      <th>review</th>\n",
       "      <th>sentiment</th>\n",
       "    </tr>\n",
       "  </thead>\n",
       "  <tbody>\n",
       "    <tr>\n",
       "      <th>43560</th>\n",
       "      <td>whenev columbo stori deviat familiar plot colo...</td>\n",
       "      <td>0</td>\n",
       "    </tr>\n",
       "    <tr>\n",
       "      <th>19788</th>\n",
       "      <td>sadli great opportun utilis superb cast bring ...</td>\n",
       "      <td>0</td>\n",
       "    </tr>\n",
       "    <tr>\n",
       "      <th>42384</th>\n",
       "      <td>pretenti claptrap updat herman melvil young ma...</td>\n",
       "      <td>0</td>\n",
       "    </tr>\n",
       "    <tr>\n",
       "      <th>23445</th>\n",
       "      <td>im big fan naruto even though havent watch eve...</td>\n",
       "      <td>1</td>\n",
       "    </tr>\n",
       "    <tr>\n",
       "      <th>12887</th>\n",
       "      <td>tri keep hip youth audienc 70 approach oacdycs...</td>\n",
       "      <td>0</td>\n",
       "    </tr>\n",
       "  </tbody>\n",
       "</table>\n",
       "</div>"
      ],
      "text/plain": [
       "                                                  review  sentiment\n",
       "43560  whenev columbo stori deviat familiar plot colo...          0\n",
       "19788  sadli great opportun utilis superb cast bring ...          0\n",
       "42384  pretenti claptrap updat herman melvil young ma...          0\n",
       "23445  im big fan naruto even though havent watch eve...          1\n",
       "12887  tri keep hip youth audienc 70 approach oacdycs...          0"
      ]
     },
     "execution_count": 26,
     "metadata": {},
     "output_type": "execute_result"
    }
   ],
   "source": [
    "df.head()"
   ]
  },
  {
   "cell_type": "markdown",
   "id": "c9581416",
   "metadata": {
    "papermill": {
     "duration": 0.006104,
     "end_time": "2025-05-27T08:44:58.119907",
     "exception": false,
     "start_time": "2025-05-27T08:44:58.113803",
     "status": "completed"
    },
    "tags": []
   },
   "source": [
    "# 2) Vectorization"
   ]
  },
  {
   "cell_type": "markdown",
   "id": "3a14f999",
   "metadata": {
    "papermill": {
     "duration": 0.006033,
     "end_time": "2025-05-27T08:44:58.132207",
     "exception": false,
     "start_time": "2025-05-27T08:44:58.126174",
     "status": "completed"
    },
    "tags": []
   },
   "source": [
    "in  bag of words , the entire available data is joined by the algorithm in to  a single big string  , and in the complete string , first the algorithm finds the number of unique words ,  and then finds the frequency of the unique words . \n",
    "now for every individual text the algorithm counts the occurrence of every word . \n",
    "and this counting is a numerical representation of every individual text , and hence the given textual data is converted into numerical data "
   ]
  },
  {
   "cell_type": "code",
   "execution_count": 27,
   "id": "56df57f9",
   "metadata": {
    "execution": {
     "iopub.execute_input": "2025-05-27T08:44:58.146106Z",
     "iopub.status.busy": "2025-05-27T08:44:58.145835Z",
     "iopub.status.idle": "2025-05-27T08:44:58.152183Z",
     "shell.execute_reply": "2025-05-27T08:44:58.151503Z"
    },
    "papermill": {
     "duration": 0.015045,
     "end_time": "2025-05-27T08:44:58.153750",
     "exception": false,
     "start_time": "2025-05-27T08:44:58.138705",
     "status": "completed"
    },
    "tags": []
   },
   "outputs": [
    {
     "data": {
      "text/html": [
       "<div>\n",
       "<style scoped>\n",
       "    .dataframe tbody tr th:only-of-type {\n",
       "        vertical-align: middle;\n",
       "    }\n",
       "\n",
       "    .dataframe tbody tr th {\n",
       "        vertical-align: top;\n",
       "    }\n",
       "\n",
       "    .dataframe thead th {\n",
       "        text-align: right;\n",
       "    }\n",
       "</style>\n",
       "<table border=\"1\" class=\"dataframe\">\n",
       "  <thead>\n",
       "    <tr style=\"text-align: right;\">\n",
       "      <th></th>\n",
       "      <th>review</th>\n",
       "      <th>sentiment</th>\n",
       "    </tr>\n",
       "  </thead>\n",
       "  <tbody>\n",
       "    <tr>\n",
       "      <th>43560</th>\n",
       "      <td>whenev columbo stori deviat familiar plot colo...</td>\n",
       "      <td>0</td>\n",
       "    </tr>\n",
       "    <tr>\n",
       "      <th>19788</th>\n",
       "      <td>sadli great opportun utilis superb cast bring ...</td>\n",
       "      <td>0</td>\n",
       "    </tr>\n",
       "    <tr>\n",
       "      <th>42384</th>\n",
       "      <td>pretenti claptrap updat herman melvil young ma...</td>\n",
       "      <td>0</td>\n",
       "    </tr>\n",
       "    <tr>\n",
       "      <th>23445</th>\n",
       "      <td>im big fan naruto even though havent watch eve...</td>\n",
       "      <td>1</td>\n",
       "    </tr>\n",
       "    <tr>\n",
       "      <th>12887</th>\n",
       "      <td>tri keep hip youth audienc 70 approach oacdycs...</td>\n",
       "      <td>0</td>\n",
       "    </tr>\n",
       "  </tbody>\n",
       "</table>\n",
       "</div>"
      ],
      "text/plain": [
       "                                                  review  sentiment\n",
       "43560  whenev columbo stori deviat familiar plot colo...          0\n",
       "19788  sadli great opportun utilis superb cast bring ...          0\n",
       "42384  pretenti claptrap updat herman melvil young ma...          0\n",
       "23445  im big fan naruto even though havent watch eve...          1\n",
       "12887  tri keep hip youth audienc 70 approach oacdycs...          0"
      ]
     },
     "execution_count": 27,
     "metadata": {},
     "output_type": "execute_result"
    }
   ],
   "source": [
    "df.head()"
   ]
  },
  {
   "cell_type": "code",
   "execution_count": 28,
   "id": "f0cbbdf8",
   "metadata": {
    "execution": {
     "iopub.execute_input": "2025-05-27T08:44:58.168261Z",
     "iopub.status.busy": "2025-05-27T08:44:58.168037Z",
     "iopub.status.idle": "2025-05-27T08:44:58.172932Z",
     "shell.execute_reply": "2025-05-27T08:44:58.172284Z"
    },
    "papermill": {
     "duration": 0.013529,
     "end_time": "2025-05-27T08:44:58.174229",
     "exception": false,
     "start_time": "2025-05-27T08:44:58.160700",
     "status": "completed"
    },
    "tags": []
   },
   "outputs": [],
   "source": [
    "# converting the first column (review) after text preprocessing into the 2D numpy array\n",
    "X = df.iloc[:,0:1].values"
   ]
  },
  {
   "cell_type": "code",
   "execution_count": 29,
   "id": "02ed12b8",
   "metadata": {
    "execution": {
     "iopub.execute_input": "2025-05-27T08:44:58.188487Z",
     "iopub.status.busy": "2025-05-27T08:44:58.188219Z",
     "iopub.status.idle": "2025-05-27T08:44:58.192384Z",
     "shell.execute_reply": "2025-05-27T08:44:58.191772Z"
    },
    "papermill": {
     "duration": 0.012285,
     "end_time": "2025-05-27T08:44:58.193371",
     "exception": false,
     "start_time": "2025-05-27T08:44:58.181086",
     "status": "completed"
    },
    "tags": []
   },
   "outputs": [
    {
     "data": {
      "text/plain": [
       "(10000, 1)"
      ]
     },
     "execution_count": 29,
     "metadata": {},
     "output_type": "execute_result"
    }
   ],
   "source": [
    "X.shape"
   ]
  },
  {
   "cell_type": "code",
   "execution_count": 30,
   "id": "37a52c0d",
   "metadata": {
    "execution": {
     "iopub.execute_input": "2025-05-27T08:44:58.207604Z",
     "iopub.status.busy": "2025-05-27T08:44:58.207300Z",
     "iopub.status.idle": "2025-05-27T08:44:59.036999Z",
     "shell.execute_reply": "2025-05-27T08:44:59.036327Z"
    },
    "papermill": {
     "duration": 0.838514,
     "end_time": "2025-05-27T08:44:59.038542",
     "exception": false,
     "start_time": "2025-05-27T08:44:58.200028",
     "status": "completed"
    },
    "tags": []
   },
   "outputs": [],
   "source": [
    "# get a particular number of unique words \n",
    "\n",
    "from sklearn.feature_extraction.text import CountVectorizer\n",
    "cv = CountVectorizer(max_features=2500)  # get 2500 unique features\n",
    "\n",
    "X=cv.fit_transform(df['review']).toarray()  "
   ]
  },
  {
   "cell_type": "code",
   "execution_count": 31,
   "id": "8698e8ea",
   "metadata": {
    "execution": {
     "iopub.execute_input": "2025-05-27T08:44:59.053047Z",
     "iopub.status.busy": "2025-05-27T08:44:59.052754Z",
     "iopub.status.idle": "2025-05-27T08:44:59.057293Z",
     "shell.execute_reply": "2025-05-27T08:44:59.056680Z"
    },
    "papermill": {
     "duration": 0.012908,
     "end_time": "2025-05-27T08:44:59.058306",
     "exception": false,
     "start_time": "2025-05-27T08:44:59.045398",
     "status": "completed"
    },
    "tags": []
   },
   "outputs": [
    {
     "data": {
      "text/plain": [
       "(10000, 2500)"
      ]
     },
     "execution_count": 31,
     "metadata": {},
     "output_type": "execute_result"
    }
   ],
   "source": [
    "X.shape  # the newshape has 2500 as number of unique rows"
   ]
  },
  {
   "cell_type": "markdown",
   "id": "0453d62e",
   "metadata": {
    "papermill": {
     "duration": 0.007414,
     "end_time": "2025-05-27T08:44:59.072772",
     "exception": false,
     "start_time": "2025-05-27T08:44:59.065358",
     "status": "completed"
    },
    "tags": []
   },
   "source": [
    "now every textual review is in the from of numbers"
   ]
  },
  {
   "cell_type": "code",
   "execution_count": 32,
   "id": "eac964ba",
   "metadata": {
    "execution": {
     "iopub.execute_input": "2025-05-27T08:44:59.087202Z",
     "iopub.status.busy": "2025-05-27T08:44:59.086906Z",
     "iopub.status.idle": "2025-05-27T08:44:59.091820Z",
     "shell.execute_reply": "2025-05-27T08:44:59.091163Z"
    },
    "papermill": {
     "duration": 0.013714,
     "end_time": "2025-05-27T08:44:59.093069",
     "exception": false,
     "start_time": "2025-05-27T08:44:59.079355",
     "status": "completed"
    },
    "tags": []
   },
   "outputs": [
    {
     "data": {
      "text/plain": [
       "0.016"
      ]
     },
     "execution_count": 32,
     "metadata": {},
     "output_type": "execute_result"
    }
   ],
   "source": [
    "X[0].mean()  # mean of the numbers of the frst review"
   ]
  },
  {
   "cell_type": "code",
   "execution_count": 33,
   "id": "5efc1d77",
   "metadata": {
    "execution": {
     "iopub.execute_input": "2025-05-27T08:44:59.107861Z",
     "iopub.status.busy": "2025-05-27T08:44:59.107579Z",
     "iopub.status.idle": "2025-05-27T08:44:59.111719Z",
     "shell.execute_reply": "2025-05-27T08:44:59.110855Z"
    },
    "papermill": {
     "duration": 0.01321,
     "end_time": "2025-05-27T08:44:59.113186",
     "exception": false,
     "start_time": "2025-05-27T08:44:59.099976",
     "status": "completed"
    },
    "tags": []
   },
   "outputs": [],
   "source": [
    "y  = df.iloc[:,-1].values"
   ]
  },
  {
   "cell_type": "code",
   "execution_count": 34,
   "id": "91407571",
   "metadata": {
    "execution": {
     "iopub.execute_input": "2025-05-27T08:44:59.128435Z",
     "iopub.status.busy": "2025-05-27T08:44:59.128138Z",
     "iopub.status.idle": "2025-05-27T08:44:59.168971Z",
     "shell.execute_reply": "2025-05-27T08:44:59.168225Z"
    },
    "papermill": {
     "duration": 0.049874,
     "end_time": "2025-05-27T08:44:59.170378",
     "exception": false,
     "start_time": "2025-05-27T08:44:59.120504",
     "status": "completed"
    },
    "tags": []
   },
   "outputs": [],
   "source": [
    "from sklearn.model_selection import train_test_split\n",
    "X_train , X_test , y_train , y_test = train_test_split(X,y,test_size=0.2)"
   ]
  },
  {
   "cell_type": "code",
   "execution_count": 35,
   "id": "5ec0c8a3",
   "metadata": {
    "execution": {
     "iopub.execute_input": "2025-05-27T08:44:59.186176Z",
     "iopub.status.busy": "2025-05-27T08:44:59.185897Z",
     "iopub.status.idle": "2025-05-27T08:44:59.189990Z",
     "shell.execute_reply": "2025-05-27T08:44:59.188874Z"
    },
    "papermill": {
     "duration": 0.013724,
     "end_time": "2025-05-27T08:44:59.191165",
     "exception": false,
     "start_time": "2025-05-27T08:44:59.177441",
     "status": "completed"
    },
    "tags": []
   },
   "outputs": [
    {
     "name": "stdout",
     "output_type": "stream",
     "text": [
      "(8000, 2500) (2000, 2500)\n"
     ]
    }
   ],
   "source": [
    "print(X_train.shape,X_test.shape)"
   ]
  },
  {
   "cell_type": "markdown",
   "id": "c9aa4433",
   "metadata": {
    "papermill": {
     "duration": 0.007788,
     "end_time": "2025-05-27T08:44:59.205991",
     "exception": false,
     "start_time": "2025-05-27T08:44:59.198203",
     "status": "completed"
    },
    "tags": []
   },
   "source": [
    "# Applying Naive Bayes"
   ]
  },
  {
   "cell_type": "code",
   "execution_count": 36,
   "id": "18cdf4ed",
   "metadata": {
    "execution": {
     "iopub.execute_input": "2025-05-27T08:44:59.220697Z",
     "iopub.status.busy": "2025-05-27T08:44:59.220481Z",
     "iopub.status.idle": "2025-05-27T08:44:59.231178Z",
     "shell.execute_reply": "2025-05-27T08:44:59.230471Z"
    },
    "papermill": {
     "duration": 0.019811,
     "end_time": "2025-05-27T08:44:59.232704",
     "exception": false,
     "start_time": "2025-05-27T08:44:59.212893",
     "status": "completed"
    },
    "tags": []
   },
   "outputs": [],
   "source": [
    "from sklearn.naive_bayes import GaussianNB , MultinomialNB , BernoulliNB"
   ]
  },
  {
   "cell_type": "code",
   "execution_count": 37,
   "id": "0adc0bc7",
   "metadata": {
    "execution": {
     "iopub.execute_input": "2025-05-27T08:44:59.247298Z",
     "iopub.status.busy": "2025-05-27T08:44:59.247046Z",
     "iopub.status.idle": "2025-05-27T08:44:59.250622Z",
     "shell.execute_reply": "2025-05-27T08:44:59.250046Z"
    },
    "papermill": {
     "duration": 0.011997,
     "end_time": "2025-05-27T08:44:59.251622",
     "exception": false,
     "start_time": "2025-05-27T08:44:59.239625",
     "status": "completed"
    },
    "tags": []
   },
   "outputs": [],
   "source": [
    "clf1 = GaussianNB()\n",
    "clf2 = MultinomialNB()\n",
    "clf3 = BernoulliNB()\n"
   ]
  },
  {
   "cell_type": "code",
   "execution_count": 38,
   "id": "713b1448",
   "metadata": {
    "execution": {
     "iopub.execute_input": "2025-05-27T08:44:59.266709Z",
     "iopub.status.busy": "2025-05-27T08:44:59.266467Z",
     "iopub.status.idle": "2025-05-27T08:44:59.852760Z",
     "shell.execute_reply": "2025-05-27T08:44:59.852061Z"
    },
    "papermill": {
     "duration": 0.595324,
     "end_time": "2025-05-27T08:44:59.854171",
     "exception": false,
     "start_time": "2025-05-27T08:44:59.258847",
     "status": "completed"
    },
    "tags": []
   },
   "outputs": [
    {
     "data": {
      "text/html": [
       "<style>#sk-container-id-1 {color: black;background-color: white;}#sk-container-id-1 pre{padding: 0;}#sk-container-id-1 div.sk-toggleable {background-color: white;}#sk-container-id-1 label.sk-toggleable__label {cursor: pointer;display: block;width: 100%;margin-bottom: 0;padding: 0.3em;box-sizing: border-box;text-align: center;}#sk-container-id-1 label.sk-toggleable__label-arrow:before {content: \"▸\";float: left;margin-right: 0.25em;color: #696969;}#sk-container-id-1 label.sk-toggleable__label-arrow:hover:before {color: black;}#sk-container-id-1 div.sk-estimator:hover label.sk-toggleable__label-arrow:before {color: black;}#sk-container-id-1 div.sk-toggleable__content {max-height: 0;max-width: 0;overflow: hidden;text-align: left;background-color: #f0f8ff;}#sk-container-id-1 div.sk-toggleable__content pre {margin: 0.2em;color: black;border-radius: 0.25em;background-color: #f0f8ff;}#sk-container-id-1 input.sk-toggleable__control:checked~div.sk-toggleable__content {max-height: 200px;max-width: 100%;overflow: auto;}#sk-container-id-1 input.sk-toggleable__control:checked~label.sk-toggleable__label-arrow:before {content: \"▾\";}#sk-container-id-1 div.sk-estimator input.sk-toggleable__control:checked~label.sk-toggleable__label {background-color: #d4ebff;}#sk-container-id-1 div.sk-label input.sk-toggleable__control:checked~label.sk-toggleable__label {background-color: #d4ebff;}#sk-container-id-1 input.sk-hidden--visually {border: 0;clip: rect(1px 1px 1px 1px);clip: rect(1px, 1px, 1px, 1px);height: 1px;margin: -1px;overflow: hidden;padding: 0;position: absolute;width: 1px;}#sk-container-id-1 div.sk-estimator {font-family: monospace;background-color: #f0f8ff;border: 1px dotted black;border-radius: 0.25em;box-sizing: border-box;margin-bottom: 0.5em;}#sk-container-id-1 div.sk-estimator:hover {background-color: #d4ebff;}#sk-container-id-1 div.sk-parallel-item::after {content: \"\";width: 100%;border-bottom: 1px solid gray;flex-grow: 1;}#sk-container-id-1 div.sk-label:hover label.sk-toggleable__label {background-color: #d4ebff;}#sk-container-id-1 div.sk-serial::before {content: \"\";position: absolute;border-left: 1px solid gray;box-sizing: border-box;top: 0;bottom: 0;left: 50%;z-index: 0;}#sk-container-id-1 div.sk-serial {display: flex;flex-direction: column;align-items: center;background-color: white;padding-right: 0.2em;padding-left: 0.2em;position: relative;}#sk-container-id-1 div.sk-item {position: relative;z-index: 1;}#sk-container-id-1 div.sk-parallel {display: flex;align-items: stretch;justify-content: center;background-color: white;position: relative;}#sk-container-id-1 div.sk-item::before, #sk-container-id-1 div.sk-parallel-item::before {content: \"\";position: absolute;border-left: 1px solid gray;box-sizing: border-box;top: 0;bottom: 0;left: 50%;z-index: -1;}#sk-container-id-1 div.sk-parallel-item {display: flex;flex-direction: column;z-index: 1;position: relative;background-color: white;}#sk-container-id-1 div.sk-parallel-item:first-child::after {align-self: flex-end;width: 50%;}#sk-container-id-1 div.sk-parallel-item:last-child::after {align-self: flex-start;width: 50%;}#sk-container-id-1 div.sk-parallel-item:only-child::after {width: 0;}#sk-container-id-1 div.sk-dashed-wrapped {border: 1px dashed gray;margin: 0 0.4em 0.5em 0.4em;box-sizing: border-box;padding-bottom: 0.4em;background-color: white;}#sk-container-id-1 div.sk-label label {font-family: monospace;font-weight: bold;display: inline-block;line-height: 1.2em;}#sk-container-id-1 div.sk-label-container {text-align: center;}#sk-container-id-1 div.sk-container {/* jupyter's `normalize.less` sets `[hidden] { display: none; }` but bootstrap.min.css set `[hidden] { display: none !important; }` so we also need the `!important` here to be able to override the default hidden behavior on the sphinx rendered scikit-learn.org. See: https://github.com/scikit-learn/scikit-learn/issues/21755 */display: inline-block !important;position: relative;}#sk-container-id-1 div.sk-text-repr-fallback {display: none;}</style><div id=\"sk-container-id-1\" class=\"sk-top-container\"><div class=\"sk-text-repr-fallback\"><pre>BernoulliNB()</pre><b>In a Jupyter environment, please rerun this cell to show the HTML representation or trust the notebook. <br />On GitHub, the HTML representation is unable to render, please try loading this page with nbviewer.org.</b></div><div class=\"sk-container\" hidden><div class=\"sk-item\"><div class=\"sk-estimator sk-toggleable\"><input class=\"sk-toggleable__control sk-hidden--visually\" id=\"sk-estimator-id-1\" type=\"checkbox\" checked><label for=\"sk-estimator-id-1\" class=\"sk-toggleable__label sk-toggleable__label-arrow\">BernoulliNB</label><div class=\"sk-toggleable__content\"><pre>BernoulliNB()</pre></div></div></div></div></div>"
      ],
      "text/plain": [
       "BernoulliNB()"
      ]
     },
     "execution_count": 38,
     "metadata": {},
     "output_type": "execute_result"
    }
   ],
   "source": [
    "clf1.fit(X_train ,y_train)\n",
    "clf2.fit(X_train , y_train)\n",
    "clf3.fit(X_train , y_train)"
   ]
  },
  {
   "cell_type": "code",
   "execution_count": 39,
   "id": "7cc23ee8",
   "metadata": {
    "execution": {
     "iopub.execute_input": "2025-05-27T08:44:59.870536Z",
     "iopub.status.busy": "2025-05-27T08:44:59.869629Z",
     "iopub.status.idle": "2025-05-27T08:45:00.014370Z",
     "shell.execute_reply": "2025-05-27T08:45:00.013644Z"
    },
    "papermill": {
     "duration": 0.154148,
     "end_time": "2025-05-27T08:45:00.015855",
     "exception": false,
     "start_time": "2025-05-27T08:44:59.861707",
     "status": "completed"
    },
    "tags": []
   },
   "outputs": [],
   "source": [
    "y_pred1 = clf1.predict(X_test)\n",
    "y_pred2 = clf2.predict(X_test)\n",
    "y_pred3 = clf3.predict(X_test)"
   ]
  },
  {
   "cell_type": "code",
   "execution_count": 40,
   "id": "b09838da",
   "metadata": {
    "execution": {
     "iopub.execute_input": "2025-05-27T08:45:00.031627Z",
     "iopub.status.busy": "2025-05-27T08:45:00.031381Z",
     "iopub.status.idle": "2025-05-27T08:45:00.037425Z",
     "shell.execute_reply": "2025-05-27T08:45:00.036600Z"
    },
    "papermill": {
     "duration": 0.015104,
     "end_time": "2025-05-27T08:45:00.038648",
     "exception": false,
     "start_time": "2025-05-27T08:45:00.023544",
     "status": "completed"
    },
    "tags": []
   },
   "outputs": [
    {
     "name": "stdout",
     "output_type": "stream",
     "text": [
      "0.731\n",
      "0.834\n",
      "0.843\n"
     ]
    }
   ],
   "source": [
    "from sklearn.metrics import accuracy_score\n",
    "print(accuracy_score(y_test,y_pred1))\n",
    "print(accuracy_score(y_test,y_pred2))\n",
    "print(accuracy_score(y_test,y_pred3))"
   ]
  }
 ],
 "metadata": {
  "kaggle": {
   "accelerator": "none",
   "dataSources": [
    {
     "datasetId": 134715,
     "sourceId": 320111,
     "sourceType": "datasetVersion"
    }
   ],
   "dockerImageVersionId": 31040,
   "isGpuEnabled": false,
   "isInternetEnabled": false,
   "language": "python",
   "sourceType": "notebook"
  },
  "kernelspec": {
   "display_name": "Python 3",
   "language": "python",
   "name": "python3"
  },
  "language_info": {
   "codemirror_mode": {
    "name": "ipython",
    "version": 3
   },
   "file_extension": ".py",
   "mimetype": "text/x-python",
   "name": "python",
   "nbconvert_exporter": "python",
   "pygments_lexer": "ipython3",
   "version": "3.11.11"
  },
  "papermill": {
   "default_parameters": {},
   "duration": 27.429297,
   "end_time": "2025-05-27T08:45:00.864799",
   "environment_variables": {},
   "exception": null,
   "input_path": "__notebook__.ipynb",
   "output_path": "__notebook__.ipynb",
   "parameters": {},
   "start_time": "2025-05-27T08:44:33.435502",
   "version": "2.6.0"
  }
 },
 "nbformat": 4,
 "nbformat_minor": 5
}
